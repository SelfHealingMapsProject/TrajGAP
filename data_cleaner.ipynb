{
 "cells": [
  {
   "cell_type": "markdown",
   "metadata": {},
   "source": [
    "# Data cleaner - remove"
   ]
  },
  {
   "cell_type": "code",
   "execution_count": 41,
   "metadata": {},
   "outputs": [],
   "source": [
    "### Imports\n",
    "import os # to manipulate paths\n",
    "import numpy as np\n",
    "import pandas as pd # Pandas data frames\n"
   ]
  },
  {
   "cell_type": "code",
   "execution_count": 42,
   "metadata": {},
   "outputs": [
    {
     "data": {
      "text/plain": [
       "True"
      ]
     },
     "execution_count": 42,
     "metadata": {},
     "output_type": "execute_result"
    }
   ],
   "source": [
    "### Main execution\n",
    "\n",
    "input_file_name = \"demo_input.csv\"\n",
    "input_file = os.path.join(os.getcwd(),'data',input_file_name)\n",
    "os.path.exists(input_file) # test that your path is correct"
   ]
  },
  {
   "cell_type": "code",
   "execution_count": 43,
   "metadata": {},
   "outputs": [
    {
     "name": "stdout",
     "output_type": "stream",
     "text": [
      "10\n",
      "10\n"
     ]
    },
    {
     "data": {
      "text/html": [
       "<div>\n",
       "<style scoped>\n",
       "    .dataframe tbody tr th:only-of-type {\n",
       "        vertical-align: middle;\n",
       "    }\n",
       "\n",
       "    .dataframe tbody tr th {\n",
       "        vertical-align: top;\n",
       "    }\n",
       "\n",
       "    .dataframe thead th {\n",
       "        text-align: right;\n",
       "    }\n",
       "</style>\n",
       "<table border=\"1\" class=\"dataframe\">\n",
       "  <thead>\n",
       "    <tr style=\"text-align: right;\">\n",
       "      <th></th>\n",
       "      <th>sessionID</th>\n",
       "      <th>time</th>\n",
       "      <th>x</th>\n",
       "      <th>y</th>\n",
       "    </tr>\n",
       "  </thead>\n",
       "  <tbody>\n",
       "    <tr>\n",
       "      <th>0</th>\n",
       "      <td>s82</td>\n",
       "      <td>2016-09-11 23:42:22</td>\n",
       "      <td>517124.889294</td>\n",
       "      <td>202226.341991</td>\n",
       "    </tr>\n",
       "    <tr>\n",
       "      <th>1</th>\n",
       "      <td>s82</td>\n",
       "      <td>2016-09-11 23:42:27</td>\n",
       "      <td>517119.144369</td>\n",
       "      <td>202206.671010</td>\n",
       "    </tr>\n",
       "    <tr>\n",
       "      <th>2</th>\n",
       "      <td>s82</td>\n",
       "      <td>2016-09-11 23:42:32</td>\n",
       "      <td>517119.144369</td>\n",
       "      <td>202206.671010</td>\n",
       "    </tr>\n",
       "    <tr>\n",
       "      <th>3</th>\n",
       "      <td>s82</td>\n",
       "      <td>2016-09-11 23:42:37</td>\n",
       "      <td>517119.210414</td>\n",
       "      <td>202207.778931</td>\n",
       "    </tr>\n",
       "    <tr>\n",
       "      <th>4</th>\n",
       "      <td>s82</td>\n",
       "      <td>2016-09-11 23:42:42</td>\n",
       "      <td>517119.210414</td>\n",
       "      <td>202207.778931</td>\n",
       "    </tr>\n",
       "  </tbody>\n",
       "</table>\n",
       "</div>"
      ],
      "text/plain": [
       "  sessionID                 time              x              y\n",
       "0       s82  2016-09-11 23:42:22  517124.889294  202226.341991\n",
       "1       s82  2016-09-11 23:42:27  517119.144369  202206.671010\n",
       "2       s82  2016-09-11 23:42:32  517119.144369  202206.671010\n",
       "3       s82  2016-09-11 23:42:37  517119.210414  202207.778931\n",
       "4       s82  2016-09-11 23:42:42  517119.210414  202207.778931"
      ]
     },
     "execution_count": 43,
     "metadata": {},
     "output_type": "execute_result"
    }
   ],
   "source": [
    "# read csv file, with header ( first row), assume all inputs are strings\n",
    "data = pd.read_csv(input_file, dtype={14:str}, header=0)\n",
    "\n",
    "# columns to hkeep:\n",
    "cols = ['sessionID','time','x','y']\n",
    "data = data[cols]\n",
    "data[\"x\"]=data[\"x\"]-2500000\n",
    "data[\"y\"]=data[\"y\"]-2500000\n",
    "print(data[\"sessionID\"].nunique())\n",
    "data[\"sessionID\"] = data[\"sessionID\"].apply(int, base=16).mod(863).astype(str).str.replace('^.', 's', regex=True)\n",
    "print(data[\"sessionID\"].nunique())\n",
    "data.head()"
   ]
  },
  {
   "cell_type": "code",
   "execution_count": 46,
   "metadata": {},
   "outputs": [],
   "source": [
    "output_file_name = \"demo_input_clean.csv\"\n",
    "output_file = os.path.join(os.getcwd(),'data',output_file_name)\n",
    "data.to_csv(output_file,columns=cols,index=False)"
   ]
  },
  {
   "cell_type": "code",
   "execution_count": null,
   "metadata": {},
   "outputs": [],
   "source": []
  }
 ],
 "metadata": {
  "kernelspec": {
   "display_name": "L8env",
   "language": "python",
   "name": "l8env"
  },
  "language_info": {
   "codemirror_mode": {
    "name": "ipython",
    "version": 3
   },
   "file_extension": ".py",
   "mimetype": "text/x-python",
   "name": "python",
   "nbconvert_exporter": "python",
   "pygments_lexer": "ipython3",
   "version": "3.9.2"
  }
 },
 "nbformat": 4,
 "nbformat_minor": 4
}
